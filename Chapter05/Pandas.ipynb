{
 "cells": [
  {
   "cell_type": "code",
   "execution_count": 1,
   "metadata": {},
   "outputs": [],
   "source": [
    "import pandas as pd"
   ]
  },
  {
   "cell_type": "code",
   "execution_count": 2,
   "metadata": {},
   "outputs": [
    {
     "name": "stdout",
     "output_type": "stream",
     "text": [
      "   col1  col2 col3\n",
      "0     1     4    x\n",
      "1     2     5    y\n",
      "2     3     6    z\n"
     ]
    }
   ],
   "source": [
    "data = {\n",
    "    'col1': [1, 2, 3],\n",
    "    'col2': [4, 5, 6],\n",
    "    'col3': ['x', 'y', 'z']\n",
    "}\n",
    "\n",
    "df = pd.DataFrame(data)\n",
    "print(df)"
   ]
  },
  {
   "cell_type": "code",
   "execution_count": 3,
   "metadata": {},
   "outputs": [
    {
     "name": "stdout",
     "output_type": "stream",
     "text": [
      "   col1  col2 col3 new_col1  new_col2\n",
      "0     1     4    x                  0\n",
      "1     2     5    y                  0\n",
      "2     3     6    z                  0\n"
     ]
    }
   ],
   "source": [
    "df['new_col1'] = \"\"\n",
    "df['new_col2'] = 0\n",
    "print(df)"
   ]
  },
  {
   "cell_type": "code",
   "execution_count": 4,
   "metadata": {},
   "outputs": [
    {
     "name": "stdout",
     "output_type": "stream",
     "text": [
      "   col1  col2 col3 new_col1  new_col2  new_col3\n",
      "0     1     4    x                  0         5\n",
      "1     2     5    y                  0         7\n",
      "2     3     6    z                  0         9\n"
     ]
    }
   ],
   "source": [
    "df['new_col3'] = df[[\n",
    "    'col1','col2'\n",
    "]].sum(axis=1)\n",
    "\n",
    "print(df)"
   ]
  },
  {
   "cell_type": "code",
   "execution_count": 5,
   "metadata": {},
   "outputs": [
    {
     "name": "stdout",
     "output_type": "stream",
     "text": [
      "   col1  col2 col3 new_col1  new_col2  new_col3  new_col4\n",
      "0     1     4    x                  0         5         5\n",
      "1     2     5    y                  0         7         7\n",
      "2     3     6    z                  0         9         9\n"
     ]
    }
   ],
   "source": [
    "old_column_list = ['col1','col2']\n",
    "df['new_col4'] = df[old_column_list].apply(sum, axis=1)\n",
    "print(df)"
   ]
  },
  {
   "cell_type": "code",
   "execution_count": 6,
   "metadata": {},
   "outputs": [
    {
     "name": "stdout",
     "output_type": "stream",
     "text": [
      "  col3 new_col1  new_col2  new_col3  new_col4\n",
      "0    x                  0         5         5\n",
      "1    y                  0         7         7\n",
      "2    z                  0         9         9\n"
     ]
    }
   ],
   "source": [
    "df.drop(['col1','col2'], axis=1, inplace=True)\n",
    "print(df)"
   ]
  },
  {
   "cell_type": "code",
   "execution_count": 7,
   "metadata": {},
   "outputs": [
    {
     "name": "stdout",
     "output_type": "stream",
     "text": [
      "  col3 new_col1  new_col2  new_col3  new_col4  new_col5  new_col6\n",
      "0    x                  0         5         5         7        10\n",
      "1    y                  0         7         7         8        11\n",
      "2    z                  0         9         9         9        12\n"
     ]
    }
   ],
   "source": [
    "df['new_col5'] = ['7', '8', '9']\n",
    "df['new_col6'] = ['10', '11', '12']\n",
    "\n",
    "for str_col in ['new_col5','new_col6']:\n",
    "    df[[str_col]] = df[[str_col]].apply(pd.to_numeric)\n",
    "    \n",
    "print(df)"
   ]
  },
  {
   "cell_type": "code",
   "execution_count": 14,
   "metadata": {},
   "outputs": [
    {
     "name": "stdout",
     "output_type": "stream",
     "text": [
      "  col3 new_col1  new_col2  new_col3  new_col4  new_col5  new_col6\n",
      "0    a                  0        11        17       7.5        13\n",
      "1    b                  0        13        19       8.5        14\n",
      "2    c                  0        15        21       9.5        15\n",
      "3    d                  0        17        23      10.5        16\n"
     ]
    }
   ],
   "source": [
    "df2 = pd.DataFrame({\n",
    "    'col3': ['a', 'b', 'c', 'd'],\n",
    "    'new_col1': '',\n",
    "    'new_col2': 0,\n",
    "    'new_col3': [11, 13, 15, 17],\n",
    "    'new_col4': [17, 19, 21, 23],\n",
    "    'new_col5': [7.5, 8.5, 9.5, 10.5],\n",
    "    'new_col6': [13, 14, 15, 16]\n",
    "});\n",
    "print(df2)"
   ]
  },
  {
   "cell_type": "code",
   "execution_count": 17,
   "metadata": {},
   "outputs": [
    {
     "name": "stdout",
     "output_type": "stream",
     "text": [
      "  col3 new_col1  new_col2  new_col3  new_col4  new_col5  new_col6\n",
      "0    x                  0         5         5       7.0        10\n",
      "1    y                  0         7         7       8.0        11\n",
      "2    z                  0         9         9       9.0        12\n",
      "3    a                  0        11        17       7.5        13\n",
      "4    b                  0        13        19       8.5        14\n",
      "5    c                  0        15        21       9.5        15\n",
      "6    d                  0        17        23      10.5        16\n"
     ]
    }
   ],
   "source": [
    "df3 = pd.concat([df, df2], ignore_index=True)\n",
    "print(df3)"
   ]
  },
  {
   "cell_type": "code",
   "execution_count": 16,
   "metadata": {},
   "outputs": [
    {
     "name": "stdout",
     "output_type": "stream",
     "text": [
      "[5, 7, 9, 11, 13, 15, 17]\n"
     ]
    }
   ],
   "source": [
    "my_list = df3['new_col3'].tolist()\n",
    "print(my_list)"
   ]
  },
  {
   "cell_type": "code",
   "execution_count": 19,
   "metadata": {},
   "outputs": [
    {
     "name": "stdout",
     "output_type": "stream",
     "text": [
      "7.0\n"
     ]
    }
   ],
   "source": [
    "value = df3.loc[0,'new_col5']\n",
    "print(value)"
   ]
  },
  {
   "cell_type": "code",
   "execution_count": 20,
   "metadata": {},
   "outputs": [
    {
     "name": "stdout",
     "output_type": "stream",
     "text": [
      "  col3 new_col1  new_col2  new_col3  new_col4  new_col5  new_col6\n",
      "0    x                  0         5         5       7.0        10\n",
      "1    y                  0         7         7       8.0        11\n",
      "2    z                  0         9         1       1.0        12\n",
      "3    a                  0        11         1       1.0        13\n",
      "4    b                  0        13         1       1.0        14\n",
      "5    c                  0        15        21       9.5        15\n",
      "6    d                  0        17        23      10.5        16\n"
     ]
    }
   ],
   "source": [
    "df3.loc[[2,3,4],['new_col4','new_col5']] = 1\n",
    "print(df3)"
   ]
  },
  {
   "cell_type": "code",
   "execution_count": 21,
   "metadata": {},
   "outputs": [
    {
     "name": "stdout",
     "output_type": "stream",
     "text": [
      "7.0\n"
     ]
    }
   ],
   "source": [
    "value2 = df3.iloc[0,5]\n",
    "print(value2)"
   ]
  },
  {
   "cell_type": "code",
   "execution_count": 23,
   "metadata": {},
   "outputs": [
    {
     "name": "stdout",
     "output_type": "stream",
     "text": [
      "   new_col2  new_col3  new_col4\n",
      "1         0         7         7\n",
      "2         0         9         1\n",
      "3         0        11         1\n"
     ]
    }
   ],
   "source": [
    "partial_df3 = df3.loc[1:3,'new_col2':'new_col4']\n",
    "print(partial_df3)"
   ]
  },
  {
   "cell_type": "code",
   "execution_count": 24,
   "metadata": {},
   "outputs": [
    {
     "name": "stdout",
     "output_type": "stream",
     "text": [
      "11\n"
     ]
    }
   ],
   "source": [
    "value3 = df3.iat[3,3]\n",
    "print(value3)"
   ]
  },
  {
   "cell_type": "code",
   "execution_count": 25,
   "metadata": {},
   "outputs": [
    {
     "name": "stdout",
     "output_type": "stream",
     "text": [
      "  col3 new_col1  new_col2  new_col3  new_col4  new_col5  new_col6\n",
      "3    a                  0        11         1       1.0        13\n",
      "4    b                  0        13         1       1.0        14\n",
      "5    c                  0        15        21       9.5        15\n",
      "6    d                  0        17        23      10.5        16\n"
     ]
    }
   ],
   "source": [
    "df3_filt = df3[df3['new_col3'] > 10]\n",
    "print(df3_filt)"
   ]
  },
  {
   "cell_type": "code",
   "execution_count": 27,
   "metadata": {},
   "outputs": [
    {
     "name": "stdout",
     "output_type": "stream",
     "text": [
      "  col3 new_col1  new_col2  new_col3  new_col4  new_col5  new_col6\n",
      "2    z                  0         9         1       1.0        12\n",
      "3    a                  0        11         1       1.0        13\n",
      "4    b                  0        13         1       1.0        14\n",
      "0    x                  0         5         5       7.0        10\n",
      "1    y                  0         7         7       8.0        11\n",
      "5    c                  0        15        21       9.5        15\n",
      "6    d                  0        17        23      10.5        16\n"
     ]
    }
   ],
   "source": [
    "df3 = df3.sort_values('new_col4', ascending=True)\n",
    "print(df3)"
   ]
  },
  {
   "cell_type": "code",
   "execution_count": 31,
   "metadata": {},
   "outputs": [
    {
     "name": "stdout",
     "output_type": "stream",
     "text": [
      "  col3 new_col1  new_col2  new_col3  new_col4  new_col5  new_col6 col3r  \\\n",
      "0    x                0.0       5.0       5.0       7.0      10.0     a   \n",
      "1    y                0.0       7.0       7.0       8.0      11.0     b   \n",
      "2    z                0.0       9.0       9.0       9.0      12.0     c   \n",
      "3  NaN      NaN       NaN       NaN       NaN       NaN       NaN     d   \n",
      "\n",
      "  new_col1r  new_col2r  new_col3r  new_col4r  new_col5r  new_col6r  \n",
      "0                    0         11         17        7.5         13  \n",
      "1                    0         13         19        8.5         14  \n",
      "2                    0         15         21        9.5         15  \n",
      "3                    0         17         23       10.5         16  \n"
     ]
    }
   ],
   "source": [
    "df_join_df2 = df.join(df2, how='outer', rsuffix='r')\n",
    "print(df_join_df2)"
   ]
  },
  {
   "cell_type": "code",
   "execution_count": 34,
   "metadata": {},
   "outputs": [
    {
     "name": "stdout",
     "output_type": "stream",
     "text": [
      "new_col4\n",
      "1     3\n",
      "5     1\n",
      "7     1\n",
      "21    1\n",
      "23    1\n",
      "dtype: int64\n"
     ]
    }
   ],
   "source": [
    "tallies = df3.groupby('new_col4').size()\n",
    "print(tallies)"
   ]
  },
  {
   "cell_type": "code",
   "execution_count": null,
   "metadata": {},
   "outputs": [],
   "source": []
  }
 ],
 "metadata": {
  "kernelspec": {
   "display_name": "Python 3",
   "language": "python",
   "name": "python3"
  },
  "language_info": {
   "codemirror_mode": {
    "name": "ipython",
    "version": 3
   },
   "file_extension": ".py",
   "mimetype": "text/x-python",
   "name": "python",
   "nbconvert_exporter": "python",
   "pygments_lexer": "ipython3",
   "version": "3.6.5"
  }
 },
 "nbformat": 4,
 "nbformat_minor": 2
}
