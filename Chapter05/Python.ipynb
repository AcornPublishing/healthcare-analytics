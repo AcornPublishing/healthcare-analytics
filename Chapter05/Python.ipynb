{
 "cells": [
  {
   "cell_type": "code",
   "execution_count": 1,
   "metadata": {},
   "outputs": [
    {
     "name": "stdout",
     "output_type": "stream",
     "text": [
      "H\n"
     ]
    }
   ],
   "source": [
    "test_string = 'Healthcare'\n",
    "print(test_string[0])"
   ]
  },
  {
   "cell_type": "code",
   "execution_count": 3,
   "metadata": {},
   "outputs": [
    {
     "name": "stdout",
     "output_type": "stream",
     "text": [
      "Health\n"
     ]
    }
   ],
   "source": [
    "print(test_string[0:6])"
   ]
  },
  {
   "cell_type": "code",
   "execution_count": 4,
   "metadata": {},
   "outputs": [
    {
     "name": "stdout",
     "output_type": "stream",
     "text": [
      "['Jones', 'Bill', '49', 'Atlanta', 'GA', '12345']\n"
     ]
    }
   ],
   "source": [
    "test_split_string = 'Jones,Bill,49,Atlanta,GA,12345'\n",
    "output = test_split_string.split(',')\n",
    "print(output)"
   ]
  },
  {
   "cell_type": "code",
   "execution_count": 1,
   "metadata": {},
   "outputs": [],
   "source": [
    "rooms = {\n",
    "    'Smith': '141-A',\n",
    "    'Davis': '142',\n",
    "    'Williams': '144',\n",
    "    'Johnson': '145-B'\n",
    "}"
   ]
  },
  {
   "cell_type": "code",
   "execution_count": 2,
   "metadata": {},
   "outputs": [
    {
     "name": "stdout",
     "output_type": "stream",
     "text": [
      "dict_keys(['Smith', 'Davis', 'Williams', 'Johnson'])\n"
     ]
    }
   ],
   "source": [
    "print(rooms.keys())"
   ]
  },
  {
   "cell_type": "code",
   "execution_count": 3,
   "metadata": {},
   "outputs": [
    {
     "name": "stdout",
     "output_type": "stream",
     "text": [
      "dict_values(['141-A', '142', '144', '145-B'])\n"
     ]
    }
   ],
   "source": [
    "print(rooms.values())"
   ]
  },
  {
   "cell_type": "code",
   "execution_count": 4,
   "metadata": {},
   "outputs": [
    {
     "name": "stdout",
     "output_type": "stream",
     "text": [
      "141-A\n"
     ]
    }
   ],
   "source": [
    "print(rooms['Smith'])"
   ]
  },
  {
   "cell_type": "code",
   "execution_count": 5,
   "metadata": {},
   "outputs": [
    {
     "name": "stdout",
     "output_type": "stream",
     "text": [
      "dict_items([('Smith', '141-A'), ('Davis', '142'), ('Williams', '144'), ('Johnson', '145-B')])\n"
     ]
    }
   ],
   "source": [
    "print(rooms.items())"
   ]
  },
  {
   "cell_type": "code",
   "execution_count": 6,
   "metadata": {},
   "outputs": [
    {
     "name": "stdout",
     "output_type": "stream",
     "text": [
      "John's height:  1.7271999999999998 \n",
      " Patty's height:  1.8541999999999998 \n",
      " John's BMI:  24.327647271211504 \n",
      " Patty's BMI:  23.74787410486812\n"
     ]
    }
   ],
   "source": [
    "from math import pow\n",
    "\n",
    "\n",
    "LB_TO_KG = 0.453592\n",
    "IN_TO_M = 0.0254\n",
    "\n",
    "\n",
    "class Patient:\n",
    "    def __init__(self, name, weight_lbs, height_in):\n",
    "        self.name = name\n",
    "        self.weight_lbs = weight_lbs\n",
    "        self.weight_kg = weight_lbs * LB_TO_KG\n",
    "        self.height_in = height_in\n",
    "        self.height_m = height_in * IN_TO_M\n",
    "        \n",
    "    def calculate_bmi(self):\n",
    "        return self.weight_kg / pow(self.height_m, 2)\n",
    "    \n",
    "    def get_height_m(self):\n",
    "        return self.height_m\n",
    "    \n",
    "\n",
    "if __name__ == '__main__':\n",
    "    test_patients = [\n",
    "        Patient('John Smith', 160, 68),\n",
    "        Patient('Patty Johnson', 180, 73)\n",
    "    ]\n",
    "    heights = [patient.get_height_m() for patient in test_patients]\n",
    "    print(\n",
    "        \"John's height: \", heights[0], '\\n',\n",
    "        \"Patty's height: \", heights[1], '\\n',\n",
    "        \"John's BMI: \", test_patients[0].calculate_bmi(), '\\n',\n",
    "        \"Patty's BMI: \", test_patients[1].calculate_bmi()\n",
    "    )"
   ]
  },
  {
   "cell_type": "code",
   "execution_count": null,
   "metadata": {
    "collapsed": true
   },
   "outputs": [],
   "source": []
  }
 ],
 "metadata": {
  "kernelspec": {
   "display_name": "Python 3",
   "language": "python",
   "name": "python3"
  },
  "language_info": {
   "codemirror_mode": {
    "name": "ipython",
    "version": 3
   },
   "file_extension": ".py",
   "mimetype": "text/x-python",
   "name": "python",
   "nbconvert_exporter": "python",
   "pygments_lexer": "ipython3",
   "version": "3.6.5"
  }
 },
 "nbformat": 4,
 "nbformat_minor": 2
}
